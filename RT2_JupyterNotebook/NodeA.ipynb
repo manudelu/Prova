{
 "cells": [
  {
   "cell_type": "markdown",
   "id": "648120a2",
   "metadata": {},
   "source": [
    "# RT2 Assignment"
   ]
  },
  {
   "cell_type": "markdown",
   "id": "2d5f207a",
   "metadata": {},
   "source": [
    "- Create a Jupyter Notebook to replace User Interface (Node A)\n",
    "- Use widgets to let the user know the position of the robot and all targets that have been set and cancelled in the environment & the distance of the closest obstacle"
   ]
  },
  {
   "cell_type": "markdown",
   "id": "4e6d8457",
   "metadata": {},
   "source": [
    "## Notebook"
   ]
  },
  {
   "cell_type": "markdown",
   "id": "3f97e1bf",
   "metadata": {},
   "source": [
    "Import the Required Libraries:"
   ]
  },
  {
   "cell_type": "code",
   "execution_count": 1,
   "id": "7c205a16",
   "metadata": {},
   "outputs": [],
   "source": [
    "import jupyros as jr\n",
    "import rospy\n",
    "import sys\n",
    "import select\n",
    "import time\n",
    "import math\n",
    "import actionlib\n",
    "import actionlib.msg\n",
    "import assignment_2_2022\n",
    "import assignment_2_2022.msg\n",
    "import numpy as np\n",
    "import ipywidgets as widgets\n",
    "import matplotlib.pyplot as plt\n",
    "\n",
    "from geometry_msgs.msg import Point, Pose, Twist\n",
    "from nav_msgs.msg import Odometry\n",
    "from assignment_2_2022.msg import RobotMsg\n",
    "from std_srvs.srv import *\n",
    "from sensor_msgs.msg import LaserScan\n",
    "from matplotlib.animation import FuncAnimation\n",
    "\n",
    "%matplotlib widget"
   ]
  },
  {
   "cell_type": "markdown",
   "id": "fabfb945",
   "metadata": {},
   "source": [
    "Initialize the Node:"
   ]
  },
  {
   "cell_type": "code",
   "execution_count": null,
   "id": "482b6d05",
   "metadata": {},
   "outputs": [],
   "source": [
    "rospy.init_node('jupyter_notebook')\n",
    "pub = rospy.Publisher(\"/pos_vel\", RobotMsg, queue_size = 1)\n",
    "client = actionlib.SimpleActionClient('/reaching_goal', assignment_2_2022.msg.PlanningAction)\n",
    "client.wait_for_server()"
   ]
  },
  {
   "cell_type": "markdown",
   "id": "c40ca8d9",
   "metadata": {},
   "source": [
    "Implement the widgets:"
   ]
  },
  {
   "cell_type": "code",
   "execution_count": 8,
   "id": "46fe6df5",
   "metadata": {},
   "outputs": [],
   "source": [
    "# Buttons for Selecting Modes\n",
    "\n",
    "send_goal_button = widgets.Button(value = False, description = \"Target Position\",\n",
    "                                  disabled = False, button_style = '')\n",
    "\n",
    "cancel_goal_button = widgets.Button(value = False, description = \"Cancel Position\", \n",
    "                                    disabled = False, button_style = '')"
   ]
  },
  {
   "cell_type": "code",
   "execution_count": 9,
   "id": "3f9e0319",
   "metadata": {},
   "outputs": [],
   "source": [
    "# Numeric Widgets\n",
    "x = widgets.BoundedFloatText(value = 0.0, description = 'x', min = 9.0, max = 9.0,\n",
    "                            style = {'description_width': 'initial'}, step = 0.1, \n",
    "                            layout = widgets.Layout(width = '100px'))\n",
    "y = widgets.BoundedFloatText(value = 0.0, description = 'y', min = 9.0, max = 9.0,\n",
    "                            style = {'description_width': 'initial'}, step = 0.1, \n",
    "                            layout = widgets.Layout(width = '100px'))"
   ]
  },
  {
   "cell_type": "code",
   "execution_count": 12,
   "id": "83f01f48",
   "metadata": {},
   "outputs": [],
   "source": [
    "def callback_send(msg):\n",
    "    global cancelled\n",
    "    goal = assignment_2_2022.msg.PlanningGoal()\n",
    "    goal.target_pose.pose.position.x = x.value\n",
    "    goal.target_pose.pose.position.y = y.value\n",
    "    client.send_goal(goal)"
   ]
  },
  {
   "cell_type": "code",
   "execution_count": 13,
   "id": "f04cea9c",
   "metadata": {},
   "outputs": [],
   "source": [
    "def callback_cancel(msg):\n",
    "    global cancelled \n",
    "    client.cancel_goal()"
   ]
  },
  {
   "cell_type": "code",
   "execution_count": null,
   "id": "022d2cbe",
   "metadata": {},
   "outputs": [],
   "source": [
    "send_goal_button.on_click(callback_send)\n",
    "cancel_goal_button.on_click(callback_cancel)"
   ]
  },
  {
   "cell_type": "code",
   "execution_count": null,
   "id": "a3a64b75",
   "metadata": {},
   "outputs": [],
   "source": [
    "def odom_callback(msg):\n",
    "    \n",
    "    "
   ]
  },
  {
   "cell_type": "code",
   "execution_count": null,
   "id": "1cd6cae6",
   "metadata": {},
   "outputs": [],
   "source": [
    "def laser_callback(msg):\n",
    "    "
   ]
  },
  {
   "cell_type": "code",
   "execution_count": null,
   "id": "4b966432",
   "metadata": {},
   "outputs": [],
   "source": [
    "# Position Visualization\n",
    "\n",
    "class Odom_Visualizer:\n",
    "    def __init__(self):\n",
    "        self.fig_odom, self.ax = plt.subplots()\n",
    "        # Robot Position Plot\n",
    "        self.ln, = plt.plot([], [], 'ro', label = 'Robot Position')\n",
    "        # Target's Position Plot\n",
    "        self.goal_ln, = plt.plot([], [], 'b*', markersize = 10, label = 'Goal Position')\n",
    "        # Robot's Position Data Arrays\n",
    "        self.x_data, self.y_data = [], []\n",
    "        \n",
    "    def plot_init(self):\n",
    "        # Set Plot Title\n",
    "        self.ax.set_title(\"Robot Odometry\", fontsize = 20, fontweight = 'bold')\n",
    "        # Set Plot Axis Labels\n",
    "        self.ax.set_xlabel(\"X [m]\", fontsize = 10, fontweight = \"bold\")\n",
    "        self.ax.set_ylabel(\"Y [m]\", fontsize = 10, fontweight = \"bold\")\n",
    "        # Set Plot Axis Limits\n",
    "        self.ax.set_xlim(-20, 20)\n",
    "        self.ax.set_ylim(-20, 20)\n",
    "        # Set Grid to True\n",
    "        self.ax.grid(True)\n",
    "        return self.ln, self.goal_ln\n",
    "    \n",
    "    def odom_callback(self, msg):\n",
    "        # Callback Function used to update data\n",
    "        self.y_data.append(msg.pose.pose.position.y)\n",
    "        self.x_data.append(msg.pose.pose.position.x)         \n",
    "        \n",
    "    def update_plot(self, frame):\n",
    "        # Update Robot's Position on plot\n",
    "        self.ln.set_data(self.x_data, self.y_data)        \n",
    "        return self.ln, self_goal_ln"
   ]
  },
  {
   "cell_type": "code",
   "execution_count": null,
   "id": "2705767c",
   "metadata": {},
   "outputs": [],
   "source": [
    "# Goal Visualizer\n",
    "\n",
    "class Goal_Visualizer:\n",
    "    def __init__(self):\n",
    "        self.fig, self.ax = plt.subplots()\n",
    "        plt.grid(False)\n",
    "        # Setting up the values\n",
    "        self.reached = 0\n",
    "        self.cancelled = 0\n",
    "        \n",
    "    def plot_init(self):\n",
    "        # Set Plot Title\n",
    "        self.ax.set_title(\"Goals are reached or not\", fontsize = 20, fontweight = \"bold\")\n",
    "        # Set Plot Labels on x-axis\n",
    "        self.labels('Reached', 'Cancelled')\n",
    "        self.x_pos = np.arrange(len(self.labels))\n",
    "        self.ax.set_xticks(self.x_pos)\n",
    "        self.ax.set_xticklabels(self.labels)\n",
    "        # Set Plot Axis Limits\n",
    "        self.ax.set_ylim([0, 10])\n",
    "        self.ax.set_yticks(np.arange(0, 11, 1))\n",
    "        self.ln = plt.bar(['Reached', 'Unreached'], [self.reached, self.unreached], color = ['green', 'red'])\n",
    "        return self.ln\n",
    "    \n",
    "    def goal_callback(self, msg):\n",
    "        # Get the number of reached/cancelled goals\n",
    "        self.reached = msg.reached\n",
    "        self.cancelled = msg.cancelled     \n",
    "        \n",
    "    def update_plot(self, frame):\n",
    "        self.ln = plt.bar(['Reached', 'Cancelled'], [self.reached, self.unreached], color = ['green', 'red'])\n",
    "        return self.ln"
   ]
  },
  {
   "cell_type": "code",
   "execution_count": null,
   "id": "c20dafbc",
   "metadata": {},
   "outputs": [],
   "source": [
    "display(widgets.HBox([x, y]))\n",
    "display(widgets.HBox([send_goal_button, cancel_goal_button]))"
   ]
  },
  {
   "cell_type": "code",
   "execution_count": null,
   "id": "2946340c",
   "metadata": {},
   "outputs": [],
   "source": [
    "current_pos = 0\n",
    "jr.subscribe('/odom', Odometry, callback_odom)"
   ]
  },
  {
   "cell_type": "code",
   "execution_count": null,
   "id": "49b41d64",
   "metadata": {},
   "outputs": [],
   "source": [
    "laser = 0\n",
    "jr.subscribe('/scan', LaserScan, callback_laser)"
   ]
  },
  {
   "cell_type": "code",
   "execution_count": null,
   "id": "b487f46d",
   "metadata": {},
   "outputs": [],
   "source": [
    "visualize_goals = Goal_Visualizer()\n",
    "results = rospy.Subscriber('/reaching_goal/result', assignment_2_2022.msg.PlanningActionResult, visualize_goals.goal_callback)\n",
    "\n",
    "animation_goal = FuncAnimation(visualize_goals.fig, visualize_goals.update_plot, interval = 1000)\n",
    "plt.show(block = True)"
   ]
  },
  {
   "cell_type": "code",
   "execution_count": null,
   "id": "b0e2e486",
   "metadata": {},
   "outputs": [],
   "source": [
    "psition_visualizer = Odom_Visualizer()\n",
    "sub = rospy.Subscriber('/odom', Odometry, position_visualizer.odom_callback)\n",
    "\n",
    "animation_pos = FuncAnimation(position_visualizer.fig, position_visualizer.update_plot, init_func = position_visualizer.plot_init)\n",
    "plt.show(block = True)"
   ]
  },
  {
   "cell_type": "code",
   "execution_count": null,
   "id": "7a1d1669",
   "metadata": {},
   "outputs": [],
   "source": []
  }
 ],
 "metadata": {
  "kernelspec": {
   "display_name": "Python 3 (ipykernel)",
   "language": "python",
   "name": "python3"
  },
  "language_info": {
   "codemirror_mode": {
    "name": "ipython",
    "version": 3
   },
   "file_extension": ".py",
   "mimetype": "text/x-python",
   "name": "python",
   "nbconvert_exporter": "python",
   "pygments_lexer": "ipython3",
   "version": "3.8.5"
  }
 },
 "nbformat": 4,
 "nbformat_minor": 5
}
