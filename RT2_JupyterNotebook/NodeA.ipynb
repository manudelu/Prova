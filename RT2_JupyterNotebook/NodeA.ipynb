{
 "cells": [
  {
   "cell_type": "markdown",
   "id": "648120a2",
   "metadata": {},
   "source": [
    "# RT2 Assignment"
   ]
  },
  {
   "cell_type": "markdown",
   "id": "2d5f207a",
   "metadata": {},
   "source": [
    "- Create a Jupyter Notebook to replace User Interface (Node A)\n",
    "- Use widgets to let the user know the position of the robot and all targets that have been set and cancelled in the environment & the distance of the closest obstacle"
   ]
  },
  {
   "cell_type": "markdown",
   "id": "4e6d8457",
   "metadata": {},
   "source": [
    "## Notebook"
   ]
  },
  {
   "cell_type": "markdown",
   "id": "3f97e1bf",
   "metadata": {},
   "source": [
    "Import the Required Libraries:"
   ]
  },
  {
   "cell_type": "code",
   "execution_count": 1,
   "id": "7c205a16",
   "metadata": {},
   "outputs": [],
   "source": [
    "import jupyros as jr\n",
    "import rospy\n",
    "import sys\n",
    "import select\n",
    "import time\n",
    "import math\n",
    "import actionlib\n",
    "import actionlib.msg\n",
    "import assignment_2_2022\n",
    "import assignment_2_2022.msg\n",
    "import numpy as np\n",
    "import ipywidgets as widgets\n",
    "import matplotlib.pyplot as plt\n",
    "\n",
    "from geometry_msgs.msg import Point, Pose, Twist\n",
    "from nav_msgs.msg import Odometry\n",
    "from assignment_2_2022.msg import RobotMsg\n",
    "from std_srvs.srv import *\n",
    "from sensor_msgs.msg import LaserScan\n",
    "from matplotlib.animation import FuncAnimation\n",
    "\n",
    "%matplotlib widget"
   ]
  },
  {
   "cell_type": "code",
   "execution_count": 2,
   "id": "d846df17",
   "metadata": {},
   "outputs": [],
   "source": [
    "goals_cancelled = 0\n",
    "goals_reached = 0"
   ]
  },
  {
   "cell_type": "markdown",
   "id": "c40ca8d9",
   "metadata": {},
   "source": [
    "Implement the widgets:"
   ]
  },
  {
   "cell_type": "code",
   "execution_count": 3,
   "id": "46fe6df5",
   "metadata": {},
   "outputs": [],
   "source": [
    "# Buttons for Selecting Modes\n",
    "\n",
    "send_goal_button = widgets.Button(value = False, description = \"Target Position\",\n",
    "                                  disabled = False, button_style = '')\n",
    "\n",
    "cancel_goal_button = widgets.Button(value = False, description = \"Cancel Position\", \n",
    "                                    disabled = False, button_style = '')"
   ]
  },
  {
   "cell_type": "code",
   "execution_count": 4,
   "id": "3f9e0319",
   "metadata": {},
   "outputs": [],
   "source": [
    "# Numeric Widgets\n",
    "\n",
    "x = widgets.BoundedFloatText(value = 0.0, description = 'x', min = -9.0, max = 9.0,\n",
    "                            style = {'description_width': 'initial'}, step = 0.1, \n",
    "                            layout = widgets.Layout(width = '100px'))\n",
    "y = widgets.BoundedFloatText(value = 0.0, description = 'y', min = -9.0, max = 9.0,\n",
    "                            style = {'description_width': 'initial'}, step = 0.1, \n",
    "                            layout = widgets.Layout(width = '100px'))"
   ]
  },
  {
   "cell_type": "code",
   "execution_count": 9,
   "id": "83f01f48",
   "metadata": {},
   "outputs": [],
   "source": [
    "def callback_send(msg):\n",
    "    global cancelled, goal\n",
    "    goal = assignment_2_2022.msg.PlanningGoal()\n",
    "    goal.target_pose.pose.position.x = x.value\n",
    "    goal.target_pose.pose.position.y = y.value\n",
    "    cancelled = False\n",
    "    client.send_goal(goal)"
   ]
  },
  {
   "cell_type": "code",
   "execution_count": 10,
   "id": "f04cea9c",
   "metadata": {},
   "outputs": [],
   "source": [
    "def callback_cancel(msg):\n",
    "    global cancelled, goal \n",
    "    goal = None\n",
    "    cancelled = True\n",
    "    client.cancel_goal()"
   ]
  },
  {
   "cell_type": "code",
   "execution_count": 11,
   "id": "022d2cbe",
   "metadata": {},
   "outputs": [],
   "source": [
    "send_goal_button.on_click(callback_send)\n",
    "cancel_goal_button.on_click(callback_cancel)"
   ]
  },
  {
   "cell_type": "markdown",
   "id": "287bc196",
   "metadata": {},
   "source": [
    "Position Visualization:"
   ]
  },
  {
   "cell_type": "code",
   "execution_count": 12,
   "id": "4b966432",
   "metadata": {},
   "outputs": [],
   "source": [
    "class Odom_Visualizer:\n",
    "    def __init__(self):\n",
    "        self.fig_odom, self.ax = plt.subplots()\n",
    "        # Robot Position Plot\n",
    "        self.ln, = plt.plot([], [], 'ro', label = 'Robot Position')\n",
    "        # Target's Position Plot\n",
    "        self.goal_ln, = plt.plot([], [], 'b*', markersize = 10, label = 'Robot Goal Position')\n",
    "        # Robot's Position Data Arrays\n",
    "        self.x_data, self.y_data = [], []\n",
    "        \n",
    "    def plot_init(self):\n",
    "        # Set Plot Title\n",
    "        self.ax.set_title(\"Robot Odometry\", fontsize = 20, fontweight = 'bold')\n",
    "        # Set Plot Axis Labels\n",
    "        self.ax.set_xlabel(\"X [m]\", fontsize = 10, fontweight = \"bold\")\n",
    "        self.ax.set_ylabel(\"Y [m]\", fontsize = 10, fontweight = \"bold\")\n",
    "        # Set Plot Axis Limits\n",
    "        self.ax.set_xlim(-20, 20)\n",
    "        self.ax.set_ylim(-20, 20)\n",
    "        # Set Grid to True\n",
    "        self.ax.grid(True)\n",
    "        return self.ln, self.goal_ln\n",
    "    \n",
    "    def odom_callback(self, msg):\n",
    "        # Callback Function used to update data\n",
    "        self.y_data.append(msg.pose.pose.position.y)\n",
    "        self.x_data.append(msg.pose.pose.position.x)         \n",
    "        \n",
    "    def update_plot(self, frame):\n",
    "        # Update Robot's Position on plot\n",
    "        self.ln.set_data(self.x_data, self.y_data)  \n",
    "        \n",
    "        if cancelled: \n",
    "            self.goal_ln.set_data([], [])\n",
    "        elif goal is not None:\n",
    "            self.goal_ln.set_data(goal.target_pose.pose.position.x, goal.target_pose.pose.position.y)\n",
    "        else:\n",
    "            self.goal_ln.set_data([], [])\n",
    "        \n",
    "        return self.ln, self.goal_ln"
   ]
  },
  {
   "cell_type": "markdown",
   "id": "1601fa8a",
   "metadata": {},
   "source": [
    "Number of Reached/Cancelled Goals Visualization:"
   ]
  },
  {
   "cell_type": "code",
   "execution_count": 13,
   "id": "2705767c",
   "metadata": {},
   "outputs": [],
   "source": [
    "class Goal_Visualizer:\n",
    "    def __init__(self):\n",
    "        self.fig, self.ax = plt.subplots()\n",
    "        # Setting up the values\n",
    "        self.reached = 0\n",
    "        self.cancelled = 0\n",
    "        # Set Plot Title\n",
    "        self.ax.set_title(\"Reached/Cancelled Goals\", fontsize = 20, fontweight = \"bold\")\n",
    "        \n",
    "        self.ax.grid(axis = 'y', color = 'grey', linestyle = '-', alpha = 0.5)\n",
    "        # Set Plot Labels on x-axis\n",
    "        self.labels = ('Reached', 'Cancelled')\n",
    "        self.x_pos = np.arange(len(self.labels))\n",
    "        self.ax.set_xticks(self.x_pos)\n",
    "        self.ax.set_xticklabels(self.labels)\n",
    "        # Set Plot Axis Limits\n",
    "        self.ax.set_ylim([0, 10])\n",
    "        self.ax.set_yticks(np.arange(0, 11, 1))\n",
    "        self.bar_colors = ['green', 'red']\n",
    "        self.bar_plot = self.ax.bar(self.x_pos, [self.reached, self.cancelled], align = 'center', color = self.bar_colors, width = 0.2)\n",
    "\n",
    "    def goal_callback(self, msg):\n",
    "        # Get the number of reached/cancelled goals\n",
    "        global goals_cancelled, goals_reached\n",
    "        self.reached = (msg.status.status == 3)\n",
    "        self.cancelled = (msg.status.status == 2) \n",
    "\n",
    "    def update_plot(self, frame):\n",
    "        self.green_val = np.random.randint(0,100)\n",
    "        self.red_val = np.random.randint(0,100)\n",
    "        \n",
    "        for i, bar in enumerate(self.bar_plot):\n",
    "            if i == 0:\n",
    "                bar.set_height(self.reached)\n",
    "            else:\n",
    "                bar.set_height(self.cancelled)\n",
    "            bar.set_color(self.bar_colors[i])\n",
    "        return self.bar_plot"
   ]
  },
  {
   "cell_type": "markdown",
   "id": "3dfdb0b1",
   "metadata": {},
   "source": [
    "Overall Plot of the Laser Scanner:"
   ]
  },
  {
   "cell_type": "code",
   "execution_count": 14,
   "id": "06fae2f8",
   "metadata": {},
   "outputs": [],
   "source": [
    "class Laser_Visualizer:\n",
    "    def __init__(self):\n",
    "        self.fig = plt.figure(figsize = (6,6))\n",
    "        self.ax = plt.subplot(111, polar = True)\n",
    "        self.ax.set_thetalim(-np.pi/2, np.pi/2)\n",
    "        self.ax.set_theta_zero_location(\"N\")\n",
    "        self.laser = []\n",
    "        self.angles = []\n",
    "        self.ln, = self.ax.plot([], [], 'bo')\n",
    "        \n",
    "    def plot_init(self):\n",
    "        # Set Plot Title\n",
    "        self.ax.set_title(\"Robot Laser Scan\", fontsize = 20, fontweight = 'bold')\n",
    "        # Set Plot Y Label\n",
    "        self.ax.set_ylabel(\"Wall Distance\", fontsize = 10, fontweight = \"bold\")\n",
    "        # Set Grid to True\n",
    "        self.ax.grid(True)\n",
    "        return self.ln\n",
    "    \n",
    "    def laser_callback(self, msg):\n",
    "        # Callback Function used to update data\n",
    "        self.angles = list(np.arange(msg.angle_min, msg.angle_max + msg.angle_increment, msg.angle_increment))\n",
    "        self.laser = list(msg.ranges)\n",
    "        \n",
    "    def update_plot(self, frame):\n",
    "        self.ax.set_rmax(20)\n",
    "        self.ln.set_data(self.angles, self.laser)  \n",
    "        return self.ln"
   ]
  },
  {
   "cell_type": "markdown",
   "id": "fabfb945",
   "metadata": {},
   "source": [
    "Initialize the Node:"
   ]
  },
  {
   "cell_type": "code",
   "execution_count": 15,
   "id": "482b6d05",
   "metadata": {},
   "outputs": [
    {
     "data": {
      "text/plain": [
       "True"
      ]
     },
     "execution_count": 15,
     "metadata": {},
     "output_type": "execute_result"
    }
   ],
   "source": [
    "rospy.init_node('jupyter_notebook')\n",
    "pub = rospy.Publisher(\"/pos_vel\", RobotMsg, queue_size = 1)\n",
    "client = actionlib.SimpleActionClient('/reaching_goal', assignment_2_2022.msg.PlanningAction)\n",
    "client.wait_for_server()"
   ]
  },
  {
   "cell_type": "markdown",
   "id": "75f65797",
   "metadata": {},
   "source": [
    "## Main:"
   ]
  },
  {
   "cell_type": "markdown",
   "id": "e27e76d3",
   "metadata": {},
   "source": [
    "Set target position:"
   ]
  },
  {
   "cell_type": "code",
   "execution_count": 16,
   "id": "c20dafbc",
   "metadata": {},
   "outputs": [
    {
     "data": {
      "application/vnd.jupyter.widget-view+json": {
       "model_id": "16f2b297bc88493f971532d8b7a2c8e4",
       "version_major": 2,
       "version_minor": 0
      },
      "text/plain": [
       "HBox(children=(BoundedFloatText(value=0.0, description='x', layout=Layout(width='100px'), max=9.0, min=-9.0, s…"
      ]
     },
     "metadata": {},
     "output_type": "display_data"
    },
    {
     "data": {
      "application/vnd.jupyter.widget-view+json": {
       "model_id": "38cc6fda161c4d48a69b3d426dde04db",
       "version_major": 2,
       "version_minor": 0
      },
      "text/plain": [
       "HBox(children=(Button(description='Target Position', style=ButtonStyle()), Button(description='Cancel Position…"
      ]
     },
     "metadata": {},
     "output_type": "display_data"
    }
   ],
   "source": [
    "display(widgets.HBox([x, y]))\n",
    "display(widgets.HBox([send_goal_button, cancel_goal_button]))"
   ]
  },
  {
   "cell_type": "markdown",
   "id": "6f112296",
   "metadata": {},
   "source": [
    "Plot number of cancelled/reached goals:"
   ]
  },
  {
   "cell_type": "code",
   "execution_count": 17,
   "id": "b487f46d",
   "metadata": {},
   "outputs": [
    {
     "data": {
      "application/vnd.jupyter.widget-view+json": {
       "model_id": "db2f11c82fbf4912b7d9c443a79d9d5a",
       "version_major": 2,
       "version_minor": 0
      },
      "text/plain": [
       "Canvas(toolbar=Toolbar(toolitems=[('Home', 'Reset original view', 'home', 'home'), ('Back', 'Back to previous …"
      ]
     },
     "metadata": {},
     "output_type": "display_data"
    }
   ],
   "source": [
    "visualize_goals = Goal_Visualizer()\n",
    "results = rospy.Subscriber('/reaching_goal/result', assignment_2_2022.msg.PlanningActionResult, visualize_goals.goal_callback)\n",
    "\n",
    "animation_goal = FuncAnimation(visualize_goals.fig, visualize_goals.update_plot, interval = 1000)\n",
    "plt.show(block = True)"
   ]
  },
  {
   "cell_type": "markdown",
   "id": "fc4a132f",
   "metadata": {},
   "source": [
    "Plot robot position:"
   ]
  },
  {
   "cell_type": "code",
   "execution_count": 18,
   "id": "b0e2e486",
   "metadata": {},
   "outputs": [
    {
     "data": {
      "application/vnd.jupyter.widget-view+json": {
       "model_id": "79f06ce8779b4000b1da9f17947c8629",
       "version_major": 2,
       "version_minor": 0
      },
      "text/plain": [
       "Canvas(toolbar=Toolbar(toolitems=[('Home', 'Reset original view', 'home', 'home'), ('Back', 'Back to previous …"
      ]
     },
     "metadata": {},
     "output_type": "display_data"
    }
   ],
   "source": [
    "position_visualizer = Odom_Visualizer()\n",
    "sub = rospy.Subscriber('/odom', Odometry, position_visualizer.odom_callback)\n",
    "\n",
    "animation_pos = FuncAnimation(position_visualizer.fig_odom, position_visualizer.update_plot, init_func = position_visualizer.plot_init)\n",
    "plt.show(block = True)"
   ]
  },
  {
   "cell_type": "markdown",
   "id": "983acd73",
   "metadata": {},
   "source": [
    "Laser plot:"
   ]
  },
  {
   "cell_type": "code",
   "execution_count": 19,
   "id": "e14b1d9e",
   "metadata": {},
   "outputs": [
    {
     "data": {
      "application/vnd.jupyter.widget-view+json": {
       "model_id": "8a4a8053e7164523ad394416baf71a80",
       "version_major": 2,
       "version_minor": 0
      },
      "text/plain": [
       "Canvas(toolbar=Toolbar(toolitems=[('Home', 'Reset original view', 'home', 'home'), ('Back', 'Back to previous …"
      ]
     },
     "metadata": {},
     "output_type": "display_data"
    }
   ],
   "source": [
    "laser_visualizer = Laser_Visualizer()\n",
    "sub = rospy.Subscriber('/scan', LaserScan, laser_visualizer.laser_callback)\n",
    "\n",
    "animation_laser = FuncAnimation(laser_visualizer.fig, laser_visualizer.update_plot, init_func = laser_visualizer.plot_init)\n",
    "plt.show(block = True)"
   ]
  }
 ],
 "metadata": {
  "kernelspec": {
   "display_name": "Python 3 (ipykernel)",
   "language": "python",
   "name": "python3"
  },
  "language_info": {
   "codemirror_mode": {
    "name": "ipython",
    "version": 3
   },
   "file_extension": ".py",
   "mimetype": "text/x-python",
   "name": "python",
   "nbconvert_exporter": "python",
   "pygments_lexer": "ipython3",
   "version": "3.8.5"
  }
 },
 "nbformat": 4,
 "nbformat_minor": 5
}
